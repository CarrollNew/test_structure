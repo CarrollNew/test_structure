{
 "cells": [
  {
   "cell_type": "code",
   "execution_count": 1,
   "metadata": {},
   "outputs": [],
   "source": [
    "import numpy as np\n",
    "from sklearn.metrics.pairwise import euclidean_distances\n",
    "import scipy"
   ]
  },
  {
   "cell_type": "code",
   "execution_count": 2,
   "metadata": {},
   "outputs": [],
   "source": [
    "def read_coords():\n",
    "    coords_dict = {}\n",
    "    model_count = 0\n",
    "    with open(\"1fsd.pdb\",'r') as f:\n",
    "        for line in f:\n",
    "            tmp_line = line.split()\n",
    "            if tmp_line[0] == \"MODEL\":\n",
    "                model_count += 1\n",
    "                coords_dict[model_count] = []\n",
    "\n",
    "            elif tmp_line[0]  == 'ATOM' and tmp_line[2] == 'CA':\n",
    "                coords = tmp_line[6:9]\n",
    "                coords_dict[model_count].append(coords)\n",
    "\n",
    "    return coords_dict"
   ]
  },
  {
   "cell_type": "code",
   "execution_count": 3,
   "metadata": {},
   "outputs": [],
   "source": [
    "# eigendecomposition\n",
    "def evd(matrix):\n",
    "    eigenvalues, eigenvectors = scipy.sparse.linalg.eigsh(matrix, k=5)\n",
    "    lambda_matrix = np.diag(eigenvalues)\n",
    "    return lambda_matrix, eigenvectors"
   ]
  },
  {
   "cell_type": "code",
   "execution_count": 4,
   "metadata": {},
   "outputs": [],
   "source": [
    "# восстановление первоначальной матрицы порядка 28\n",
    "def compose_matrix(eigenvectors, eigenvalues):\n",
    "\n",
    "    return (eigenvectors @ eigenvalues @ eigenvectors.transpose())"
   ]
  },
  {
   "cell_type": "code",
   "execution_count": 5,
   "metadata": {},
   "outputs": [],
   "source": [
    "def is_same_matrix(matrix, composed_matrix):\n",
    "    return np.allclose(matrix, composed_matrix)"
   ]
  },
  {
   "cell_type": "code",
   "execution_count": 6,
   "metadata": {},
   "outputs": [],
   "source": [
    "def compute_model(model_coords):\n",
    "\n",
    "    matrix = euclidean_distances(model_coords, model_coords) ** 2\n",
    "    print('rank =', np.linalg.matrix_rank(matrix))\n",
    "        \n",
    "    eigenvalues, eigenvectors = evd(matrix)\n",
    "    # матрица eigenvalues имеет меньшую размерность\n",
    "    print('shape of new matrix = ', eigenvalues.shape)\n",
    "\n",
    "    composed_matrix = compose_matrix(eigenvectors, eigenvalues)\n",
    "    print('Are matrix and composed matrix the same?', is_same_matrix(matrix, composed_matrix))"
   ]
  },
  {
   "cell_type": "code",
   "execution_count": 7,
   "metadata": {},
   "outputs": [],
   "source": [
    "# Task №3\n",
    "# Координаты CA находятся в общем положении (general position) -> \n",
    "# -> rank EDM (матрицы квадратов попарных расстояний) = 5 = min(28, 5) = min(28, d+2), где d = 3 "
   ]
  },
  {
   "cell_type": "code",
   "execution_count": 8,
   "metadata": {},
   "outputs": [
    {
     "name": "stdout",
     "output_type": "stream",
     "text": [
      "MODEL 1, rank = 5\n",
      "shape of new matrix =  (5, 5)\n",
      "Are matrix and composed matrix the same? True\n",
      "MODEL 2, rank = 5\n",
      "shape of new matrix =  (5, 5)\n",
      "Are matrix and composed matrix the same? True\n",
      "MODEL 3, rank = 5\n",
      "shape of new matrix =  (5, 5)\n",
      "Are matrix and composed matrix the same? True\n",
      "MODEL 4, rank = 5\n",
      "shape of new matrix =  (5, 5)\n",
      "Are matrix and composed matrix the same? True\n",
      "MODEL 5, rank = 5\n",
      "shape of new matrix =  (5, 5)\n",
      "Are matrix and composed matrix the same? True\n",
      "MODEL 6, rank = 5\n",
      "shape of new matrix =  (5, 5)\n",
      "Are matrix and composed matrix the same? True\n",
      "MODEL 7, rank = 5\n",
      "shape of new matrix =  (5, 5)\n",
      "Are matrix and composed matrix the same? True\n",
      "MODEL 8, rank = 5\n",
      "shape of new matrix =  (5, 5)\n",
      "Are matrix and composed matrix the same? True\n",
      "MODEL 9, rank = 5\n",
      "shape of new matrix =  (5, 5)\n",
      "Are matrix and composed matrix the same? True\n",
      "MODEL 10, rank = 5\n",
      "shape of new matrix =  (5, 5)\n",
      "Are matrix and composed matrix the same? True\n",
      "MODEL 11, rank = 5\n",
      "shape of new matrix =  (5, 5)\n",
      "Are matrix and composed matrix the same? True\n",
      "MODEL 12, rank = 5\n",
      "shape of new matrix =  (5, 5)\n",
      "Are matrix and composed matrix the same? True\n",
      "MODEL 13, rank = 5\n",
      "shape of new matrix =  (5, 5)\n",
      "Are matrix and composed matrix the same? True\n",
      "MODEL 14, rank = 5\n",
      "shape of new matrix =  (5, 5)\n",
      "Are matrix and composed matrix the same? True\n",
      "MODEL 15, rank = 5\n",
      "shape of new matrix =  (5, 5)\n",
      "Are matrix and composed matrix the same? True\n",
      "MODEL 16, rank = 5\n",
      "shape of new matrix =  (5, 5)\n",
      "Are matrix and composed matrix the same? True\n",
      "MODEL 17, rank = 5\n",
      "shape of new matrix =  (5, 5)\n",
      "Are matrix and composed matrix the same? True\n",
      "MODEL 18, rank = 5\n",
      "shape of new matrix =  (5, 5)\n",
      "Are matrix and composed matrix the same? True\n",
      "MODEL 19, rank = 5\n",
      "shape of new matrix =  (5, 5)\n",
      "Are matrix and composed matrix the same? True\n",
      "MODEL 20, rank = 5\n",
      "shape of new matrix =  (5, 5)\n",
      "Are matrix and composed matrix the same? True\n",
      "MODEL 21, rank = 5\n",
      "shape of new matrix =  (5, 5)\n",
      "Are matrix and composed matrix the same? True\n",
      "MODEL 22, rank = 5\n",
      "shape of new matrix =  (5, 5)\n",
      "Are matrix and composed matrix the same? True\n",
      "MODEL 23, rank = 5\n",
      "shape of new matrix =  (5, 5)\n",
      "Are matrix and composed matrix the same? True\n",
      "MODEL 24, rank = 5\n",
      "shape of new matrix =  (5, 5)\n",
      "Are matrix and composed matrix the same? True\n",
      "MODEL 25, rank = 5\n",
      "shape of new matrix =  (5, 5)\n",
      "Are matrix and composed matrix the same? True\n",
      "MODEL 26, rank = 5\n",
      "shape of new matrix =  (5, 5)\n",
      "Are matrix and composed matrix the same? True\n",
      "MODEL 27, rank = 5\n",
      "shape of new matrix =  (5, 5)\n",
      "Are matrix and composed matrix the same? True\n",
      "MODEL 28, rank = 5\n",
      "shape of new matrix =  (5, 5)\n",
      "Are matrix and composed matrix the same? True\n",
      "MODEL 29, rank = 5\n",
      "shape of new matrix =  (5, 5)\n",
      "Are matrix and composed matrix the same? True\n",
      "MODEL 30, rank = 5\n",
      "shape of new matrix =  (5, 5)\n",
      "Are matrix and composed matrix the same? True\n",
      "MODEL 31, rank = 5\n",
      "shape of new matrix =  (5, 5)\n",
      "Are matrix and composed matrix the same? True\n",
      "MODEL 32, rank = 5\n",
      "shape of new matrix =  (5, 5)\n",
      "Are matrix and composed matrix the same? True\n",
      "MODEL 33, rank = 5\n",
      "shape of new matrix =  (5, 5)\n",
      "Are matrix and composed matrix the same? True\n",
      "MODEL 34, rank = 5\n",
      "shape of new matrix =  (5, 5)\n",
      "Are matrix and composed matrix the same? True\n",
      "MODEL 35, rank = 5\n",
      "shape of new matrix =  (5, 5)\n",
      "Are matrix and composed matrix the same? True\n",
      "MODEL 36, rank = 5\n",
      "shape of new matrix =  (5, 5)\n",
      "Are matrix and composed matrix the same? True\n",
      "MODEL 37, rank = 5\n",
      "shape of new matrix =  (5, 5)\n",
      "Are matrix and composed matrix the same? True\n",
      "MODEL 38, rank = 5\n",
      "shape of new matrix =  (5, 5)\n",
      "Are matrix and composed matrix the same? True\n",
      "MODEL 39, rank = 5\n",
      "shape of new matrix =  (5, 5)\n",
      "Are matrix and composed matrix the same? True\n",
      "MODEL 40, rank = 5\n",
      "shape of new matrix =  (5, 5)\n",
      "Are matrix and composed matrix the same? True\n",
      "MODEL 41, rank = 5\n",
      "shape of new matrix =  (5, 5)\n",
      "Are matrix and composed matrix the same? True\n"
     ]
    }
   ],
   "source": [
    "coords_dict = read_coords()\n",
    "for model_id in range(1, 42):\n",
    "    print('MODEL', model_id, end=', ')\n",
    "    compute_model(coords_dict[model_id])"
   ]
  },
  {
   "cell_type": "code",
   "execution_count": 9,
   "metadata": {},
   "outputs": [],
   "source": [
    "# В ходе рассмотреняи факторизаций также было протестировано сингулярное разложение матрицы (SVD), \n",
    "# также позволяющее получить из изначальной матрицы EDM матрицу меньшей размерности, а именно матрицу порядка 5.\n",
    "# Однако SVD для EDM проигрывает в скорости."
   ]
  },
  {
   "cell_type": "code",
   "execution_count": 7,
   "metadata": {},
   "outputs": [],
   "source": [
    "Вариант получения только одной(!) матрицы(но размером (5, 28)), из изначальной матрицы M(28, 28):\n",
    "1) находится rank(M)=5 линейно независимых строк\n",
    "2) эти линейно независимые строки дадут нам rank(M) столбцов, так как матрица симметрична\n",
    "3) для каждой из линейно зависимых строк можно составить систему линейных уравнений вида \n",
    "(Не умоляя общности, предположим, что выбранные линейно незавсимые строки являются первыми rank(M) строками матрицы)\n",
    "a11*x1 + a21*x2 + a31*x3 + a41*x4 + a51 *x5 = a16 (так как матрица симметрична) \n",
    "a12*x1 + a22*x2 + a32*x3 + a42*x4 + a52 *x5 = a26 \n",
    "a13*x1 + a23*x2 + a33*x3 + a43*x4 + a54 *x5 = a36 \n",
    "a14*x1 + a24*x2 + a34*x3 + a44*x4 + a54 *x5 = a46 \n",
    "a15*x1 + a25*x2 + a35*x3 + a45*x4 + a55 *x5 = a56 \n",
    "\n",
    "где aij - элемент матрицы М, стоящей в i-той строке, j-том столбце\n",
    "\n",
    "Таким образом, у нас получилась система из 5 линейных уравнений с 5 неизвестными.\n",
    "Решив ее для линейной зависмой строки, мы восстановим коэффиценты для линейной комбинации линейно независимых строк.\n",
    "С помощью этих коэффциентов восстанавливаются все элементы строки.\n",
    "Проделав это для всех линейно зависимых строк, найдем всю матрицу."
   ]
  },
  {
   "cell_type": "markdown",
   "metadata": {},
   "source": [
    "### "
   ]
  }
 ],
 "metadata": {
  "kernelspec": {
   "display_name": "Python 3",
   "language": "python",
   "name": "python3"
  },
  "language_info": {
   "codemirror_mode": {
    "name": "ipython",
    "version": 3
   },
   "file_extension": ".py",
   "mimetype": "text/x-python",
   "name": "python",
   "nbconvert_exporter": "python",
   "pygments_lexer": "ipython3",
   "version": "3.7.3"
  }
 },
 "nbformat": 4,
 "nbformat_minor": 2
}
